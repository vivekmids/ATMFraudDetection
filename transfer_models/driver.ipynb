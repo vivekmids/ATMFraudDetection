{
 "cells": [
  {
   "cell_type": "code",
   "execution_count": 1,
   "metadata": {},
   "outputs": [
    {
     "name": "stdout",
     "output_type": "stream",
     "text": [
      "Collecting Pillow\n",
      "\u001b[?25l  Downloading https://files.pythonhosted.org/packages/d6/98/0d360dbc087933679398d73187a503533ec0547ba4ffd2115365605559cc/Pillow-6.1.0-cp35-cp35m-manylinux1_x86_64.whl (2.1MB)\n",
      "\u001b[K     |████████████████████████████████| 2.1MB 297kB/s eta 0:00:01     |███████████████▊                | 1.0MB 297kB/s eta 0:00:04\n",
      "\u001b[?25hInstalling collected packages: Pillow\n",
      "Successfully installed Pillow-6.1.0\n",
      "\u001b[33mWARNING: You are using pip version 19.1, however version 19.2.1 is available.\n",
      "You should consider upgrading via the 'pip install --upgrade pip' command.\u001b[0m\n"
     ]
    }
   ],
   "source": [
    "!pip3 install Pillow"
   ]
  },
  {
   "cell_type": "code",
   "execution_count": 22,
   "metadata": {
    "scrolled": false
   },
   "outputs": [
    {
     "name": "stdout",
     "output_type": "stream",
     "text": [
      "Using TensorFlow backend.\n",
      "WARNING:tensorflow:From /usr/local/lib/python3.5/dist-packages/tensorflow/python/framework/op_def_library.py:263: colocate_with (from tensorflow.python.framework.ops) is deprecated and will be removed in a future version.\n",
      "Instructions for updating:\n",
      "Colocations handled automatically by placer.\n",
      "2019-07-30 06:43:24.403475: I tensorflow/core/platform/cpu_feature_guard.cc:141] Your CPU supports instructions that this TensorFlow binary was not compiled to use: AVX2 FMA\n",
      "2019-07-30 06:43:24.408060: I tensorflow/core/platform/profile_utils/cpu_utils.cc:94] CPU Frequency: 2600080000 Hz\n",
      "2019-07-30 06:43:24.408560: I tensorflow/compiler/xla/service/service.cc:150] XLA service 0x4fafb80 executing computations on platform Host. Devices:\n",
      "2019-07-30 06:43:24.408586: I tensorflow/compiler/xla/service/service.cc:158]   StreamExecutor device (0): <undefined>, <undefined>\n",
      "Found 2000 images belonging to 2 classes.\n",
      "Found 800 images belonging to 2 classes.\n",
      "WARNING:tensorflow:From /usr/local/lib/python3.5/dist-packages/keras/backend/tensorflow_backend.py:3445: calling dropout (from tensorflow.python.ops.nn_ops) with keep_prob is deprecated and will be removed in a future version.\n",
      "Instructions for updating:\n",
      "Please use `rate` instead of `keep_prob`. Rate should be set to `rate = 1 - keep_prob`.\n",
      "WARNING:tensorflow:From /usr/local/lib/python3.5/dist-packages/tensorflow/python/ops/math_ops.py:3066: to_int32 (from tensorflow.python.ops.math_ops) is deprecated and will be removed in a future version.\n",
      "Instructions for updating:\n",
      "Use tf.cast instead.\n",
      "Train on 2000 samples, validate on 800 samples\n",
      "Epoch 1/10\n",
      "2000/2000 [==============================] - 1s 277us/step - loss: 0.3450 - acc: 0.8420 - val_loss: 0.2453 - val_acc: 0.8988\n",
      "Epoch 2/10\n",
      "2000/2000 [==============================] - 0s 187us/step - loss: 0.2227 - acc: 0.9075 - val_loss: 0.1759 - val_acc: 0.9325\n",
      "Epoch 3/10\n",
      "2000/2000 [==============================] - 0s 184us/step - loss: 0.1998 - acc: 0.9190 - val_loss: 0.1749 - val_acc: 0.9225\n",
      "Epoch 4/10\n",
      "2000/2000 [==============================] - 0s 175us/step - loss: 0.1862 - acc: 0.9280 - val_loss: 0.1579 - val_acc: 0.9375\n",
      "Epoch 5/10\n",
      "2000/2000 [==============================] - 0s 180us/step - loss: 0.1832 - acc: 0.9225 - val_loss: 0.1494 - val_acc: 0.9363\n",
      "Epoch 6/10\n",
      "2000/2000 [==============================] - 0s 176us/step - loss: 0.1803 - acc: 0.9325 - val_loss: 0.1507 - val_acc: 0.9350\n",
      "Epoch 7/10\n",
      "2000/2000 [==============================] - 0s 188us/step - loss: 0.1759 - acc: 0.9300 - val_loss: 0.1465 - val_acc: 0.9363\n",
      "Epoch 8/10\n",
      "2000/2000 [==============================] - 0s 182us/step - loss: 0.1691 - acc: 0.9355 - val_loss: 0.1559 - val_acc: 0.9387\n",
      "Epoch 9/10\n",
      "2000/2000 [==============================] - 0s 182us/step - loss: 0.1727 - acc: 0.9345 - val_loss: 0.1450 - val_acc: 0.9387\n",
      "Epoch 10/10\n",
      "2000/2000 [==============================] - 0s 183us/step - loss: 0.1575 - acc: 0.9335 - val_loss: 0.1848 - val_acc: 0.9150\n",
      "Found 800 images belonging to 2 classes.\n",
      "(800, 1, 1, 512)\n",
      "              precision    recall  f1-score   support\n",
      "\n",
      "           0       0.95      0.88      0.92       400\n",
      "           1       0.89      0.96      0.92       400\n",
      "\n",
      "    accuracy                           0.92       800\n",
      "   macro avg       0.92      0.92      0.92       800\n",
      "weighted avg       0.92      0.92      0.92       800\n",
      "\n"
     ]
    }
   ],
   "source": [
    "!python3 eyeShut_03.py"
   ]
  }
 ],
 "metadata": {
  "kernelspec": {
   "display_name": "Python 3",
   "language": "python",
   "name": "python3"
  },
  "language_info": {
   "codemirror_mode": {
    "name": "ipython",
    "version": 3
   },
   "file_extension": ".py",
   "mimetype": "text/x-python",
   "name": "python",
   "nbconvert_exporter": "python",
   "pygments_lexer": "ipython3",
   "version": "3.5.2"
  }
 },
 "nbformat": 4,
 "nbformat_minor": 2
}
