{
 "cells": [
  {
   "cell_type": "code",
   "execution_count": null,
   "metadata": {},
   "outputs": [
    {
     "name": "stdout",
     "output_type": "stream",
     "text": [
      "connected with rc:0\n",
      "Client is  <paho.mqtt.client.Client object at 0x10ec1aa10>\n",
      "userdata is  None\n",
      "flags are {'session present': 0}\n",
      "Image Vivek.png published.\n",
      "Image vivek.jpg published.\n"
     ]
    }
   ],
   "source": [
    "import numpy as np\n",
    "import time\n",
    "from PIL import Image\n",
    "import paho.mqtt.client as mqtt\n",
    "import io\n",
    "\n",
    "def on_connect(client, userdata, flags, rc):\n",
    "    print (\"connected with rc:\"+str(rc))\n",
    "    print(\"Client is \", client)\n",
    "    print(\"userdata is \", userdata)\n",
    "    print(\"flags are\", flags)\n",
    "    \n",
    "def on_log(client, userdata, level, buf):\n",
    "    print('Log ', buf)\n",
    "\n",
    "def image_to_byte_array(image):\n",
    "    imgByteIO = io.BytesIO()\n",
    "    image.save(imgByteIO, format=image.format)\n",
    "    imgByteArr = imgByteIO.getvalue()\n",
    "    return imgByteArr\n",
    "\n",
    "MQTT_HOST = \"127.0.0.1\"\n",
    "#MQTT_HOST = 'iot.eclipse.org'\n",
    "MQTT_PORT = 1883\n",
    "MQTT_TOPIC = \"local/faces\"\n",
    "\n",
    "mqttclient = mqtt.Client('TestStub')\n",
    "mqttclient.on_connect = on_connect\n",
    "#mqttclient.on_log = on_log\n",
    "mqttclient.connect(MQTT_HOST)\n",
    "\n",
    "mqttclient.loop_start()\n",
    "images = ['Vivek.png', 'vivek.jpg', 'img1.gif', 'img2.jpg', 'img3.jpeg', 'img4.png', 'img5.png', 'img6.jpg']\n",
    "#images = ['img1.gif', 'img2.jpg']\n",
    "\n",
    "for image in images:\n",
    "    im = Image.open(image)\n",
    "    imbytearr = image_to_byte_array(im)\n",
    "    mqttclient.publish(MQTT_TOPIC, payload=imbytearr)\n",
    "    time.sleep(2)\n",
    "    print('Image', image, 'published.')\n",
    "\n",
    "mqttclient.loop_stop()\n",
    "mqttclient.disconnect()"
   ]
  }
 ],
 "metadata": {
  "kernelspec": {
   "display_name": "Python 3",
   "language": "python",
   "name": "python3"
  },
  "language_info": {
   "codemirror_mode": {
    "name": "ipython",
    "version": 3
   },
   "file_extension": ".py",
   "mimetype": "text/x-python",
   "name": "python",
   "nbconvert_exporter": "python",
   "pygments_lexer": "ipython3",
   "version": "3.7.4"
  }
 },
 "nbformat": 4,
 "nbformat_minor": 2
}
